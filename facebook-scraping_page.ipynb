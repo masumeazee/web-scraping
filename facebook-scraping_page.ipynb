{
 "cells": [
  {
   "cell_type": "code",
   "execution_count": null,
   "metadata": {},
   "outputs": [],
   "source": [
    "# THis is a project to scrape posts of a page based on a specific date | january 2024\n",
    "\n",
    "import selenium\n",
    "from selenium import webdriver\n",
    "\n",
    "from selenium.webdriver.chrome.service import Service\n",
    "from selenium.webdriver.common.by import By\n",
    "from selenium.webdriver.common.keys import Keys\n",
    "import time\n",
    "import secrets"
   ]
  },
  {
   "cell_type": "code",
   "execution_count": null,
   "metadata": {},
   "outputs": [],
   "source": [
    "# Specify the path to the ChromeDriver executable\n",
    "chrome_driver_path = \"E:/chromedriver-win64/chromedriver.exe\"\n",
    "\n",
    "# Create a ChromeOptions object\n",
    "chrome_options = webdriver.ChromeOptions()\n",
    "\n",
    "# Set preferences to block notifications\n",
    "prefs = {\"profile.default_content_setting_values.notifications\": 2}\n",
    "chrome_options.add_experimental_option(\"prefs\", prefs)\n",
    "\n",
    "# Create a Chrome WebDriver instance with the specified options and service\n",
    "chrome_service = Service(executable_path=chrome_driver_path)\n",
    "driver = webdriver.Chrome(service=chrome_service, options=chrome_options)\n",
    "\n",
    "# Perform actions with the WebDriver\n",
    "driver.get(\"https://www.facebook.com\")\n",
    "time.sleep(5)"
   ]
  },
  {
   "cell_type": "code",
   "execution_count": null,
   "metadata": {},
   "outputs": [],
   "source": [
    "loginId = secrets.username\n",
    "my_password = secrets.password"
   ]
  },
  {
   "cell_type": "code",
   "execution_count": null,
   "metadata": {},
   "outputs": [],
   "source": [
    "user_name = driver.find_element(By.XPATH,\"//input[@type='text']\")\n",
    "user_name.send_keys(\"asrin.azee@yahoo.com\")\n",
    "\n",
    "password = driver.find_element(By.XPATH,\"//input[@placeholder='Password']\")\n",
    "password.send_keys(my_password)"
   ]
  },
  {
   "cell_type": "code",
   "execution_count": null,
   "metadata": {},
   "outputs": [],
   "source": [
    "log_in_button = driver.find_element(By.XPATH,\"//button[@type='submit']\")\n",
    "log_in_button.click()\n",
    "time.sleep(3)"
   ]
  },
  {
   "cell_type": "code",
   "execution_count": null,
   "metadata": {},
   "outputs": [],
   "source": [
    "urll = 'https://www.facebook.com/Rudaw.net'\n",
    "driver.get(urll)\n",
    "time.sleep(5)"
   ]
  },
  {
   "cell_type": "code",
   "execution_count": null,
   "metadata": {},
   "outputs": [],
   "source": [
    "filter_btn = driver.find_element(By.XPATH,\"//div[@aria-label='Filters']\")\n",
    "#//div[@class='x1iyjqo2 x1pi30zi']\n",
    "time.sleep('1')\n",
    "filter_btn.click()"
   ]
  },
  {
   "cell_type": "code",
   "execution_count": null,
   "metadata": {},
   "outputs": [],
   "source": [
    "# Find the \"Posts\" element by its text content\n",
    "from selenium.webdriver.support.wait import WebDriverWait\n",
    "from selenium.webdriver.support import expected_conditions as EC\n",
    "from selenium.webdriver.common.by import By\n",
    "from selenium.webdriver.common.keys import Keys\n",
    "posts_year = WebDriverWait(driver, 10).until(\n",
    "    EC.element_to_be_clickable((By.XPATH,\"//div[@aria-label='Go to:']\"))\n",
    ")\n",
    "\n",
    "# Click on the \"Posts\" element\n",
    "posts_year.click()\n",
    "\n",
    "# Add a sleep to wait for the page to load (adjust the time as needed)\n",
    "time.sleep(3)"
   ]
  },
  {
   "cell_type": "code",
   "execution_count": null,
   "metadata": {},
   "outputs": [],
   "source": [
    "span_2017 = WebDriverWait(driver, 10).until(\n",
    "    EC.element_to_be_clickable((By.XPATH, '//div/div/span[text()=\"2019\"]')))\n",
    "    #//*[@id=\":r6n:__8\"]/div[1]/div/div\n",
    "time.sleep(1.5)\n",
    "span_2017.click()\n",
    "time.sleep(3)"
   ]
  },
  {
   "cell_type": "code",
   "execution_count": null,
   "metadata": {},
   "outputs": [],
   "source": [
    "posts_month = WebDriverWait(driver, 10).until(\n",
    "    EC.element_to_be_clickable((By.XPATH,'//div/div/div/span[text()=\"Month\"]'))\n",
    "    #//*[@id=\":r73:\"]\n",
    ")\n",
    "\n",
    "# Click on the \"Posts\" element\n",
    "posts_month.click()\n",
    "\n",
    "# Add a sleep to wait for the page to load (adjust the time as needed)\n",
    "time.sleep(1.5)\n",
    "\n",
    "month_ = WebDriverWait(driver, 10).until(\n",
    "    EC.element_to_be_clickable((By.XPATH, './/span[text()=\"July\"]')))\n",
    "time.sleep(1.5)\n",
    "month_.click()\n"
   ]
  },
  {
   "cell_type": "code",
   "execution_count": null,
   "metadata": {},
   "outputs": [],
   "source": [
    "#aria-expanded\n",
    "posts_day = WebDriverWait(driver, 10).until(\n",
    "    #//*[@id=\":r79:\"]\n",
    "    EC.element_to_be_clickable((By.XPATH,'//div/div/span[text()=\"Day\"]'))\n",
    ")\n",
    "\n",
    "# Click on the \"Posts\" element\n",
    "posts_day.click()\n",
    "\n",
    "# Add a sleep to wait for the page to load (adjust the time as needed)\n",
    "time.sleep(1.5)"
   ]
  },
  {
   "cell_type": "code",
   "execution_count": null,
   "metadata": {},
   "outputs": [],
   "source": [
    "day_ = WebDriverWait(driver, 10).until(\n",
    "    #//*[@id=\":rc6:__1\"]/div[1]/div/div/span\n",
    "    #rqd:__1\n",
    "    EC.element_to_be_clickable((By.XPATH, '//*[@id=\":r6e:__1\"]/div[1]/div/div/span[text()=\"1\"]')))\n",
    "time.sleep(1.5)\n",
    "day_.click()\n",
    "time.sleep(3)"
   ]
  },
  {
   "cell_type": "code",
   "execution_count": null,
   "metadata": {},
   "outputs": [],
   "source": [
    "done_ = WebDriverWait(driver, 10).until(\n",
    "    #//*[@id=\":rc6:__1\"]/div[1]/div/div/span\n",
    "    #//*[@id=\"mount_0_0_2v\"]/div/div[1]/div/div[4]/div/div/div[1]/div/div[2]/div/div/div/div[3]/div[2]/div/div[2]\n",
    "    EC.element_to_be_clickable((By.XPATH, '//*[@id=\"mount_0_0_wK\"]/div/div[1]/div/div[4]/div/div/div[1]/div/div[2]/div/div/div/div[3]/div[2]/div/div[2]/div[1]/div')))\n",
    "time.sleep(1.5)\n",
    "done_.click()\n",
    "time.sleep(1)"
   ]
  },
  {
   "cell_type": "code",
   "execution_count": null,
   "metadata": {},
   "outputs": [],
   "source": [
    "txt_content_list = []\n",
    "while True:    \n",
    "    # Find the element using its class name\n",
    "    element = driver.find_elements(By.CLASS_NAME, 'x1iorvi4')\n",
    "    ii =[]\n",
    "    for elem in element:\n",
    "\n",
    "        # Get the ID attribute of the element\n",
    "        element_id = elem.get_attribute(\"id\")\n",
    "        \n",
    "        if element_id != \"\":\n",
    "            ii.append(element_id)\n",
    "            \n",
    "            print(\"Text content:\", element_id)\n",
    "        # Scroll down using JavaScript\n",
    "\n",
    "    # Find the span element using the provided XPath expression\n",
    "    #//*[@id=\":r4gs:\"]/div/div/span\n",
    "    for iii in range(len(ii)):\n",
    "        span_element = driver.find_elements(By.XPATH, \"//*[@id='\" + ii[iii] + \"']/div/div/span\")\n",
    "\n",
    "        for elem in span_element:\n",
    "            if elem.text !=\"\" :\n",
    "                text_content = elem.text\n",
    "                txt_content_list.append(elem.text)\n",
    "                #print(\"Text content:\", text_content)\n",
    "\n",
    "    scroll_script = \"window.scrollTo(2, document.body.scrollHeight);\"\n",
    "    driver.execute_script(scroll_script)"
   ]
  },
  {
   "cell_type": "code",
   "execution_count": null,
   "metadata": {},
   "outputs": [],
   "source": []
  },
  {
   "cell_type": "code",
   "execution_count": null,
   "metadata": {},
   "outputs": [],
   "source": []
  },
  {
   "cell_type": "code",
   "execution_count": null,
   "metadata": {},
   "outputs": [],
   "source": []
  }
 ],
 "metadata": {
  "language_info": {
   "name": "python"
  }
 },
 "nbformat": 4,
 "nbformat_minor": 2
}
