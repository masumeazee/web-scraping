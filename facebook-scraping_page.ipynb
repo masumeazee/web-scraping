{
 "cells": [
  {
   "cell_type": "code",
   "execution_count": 1,
   "metadata": {},
   "outputs": [],
   "source": [
    "# THis is a project to scrape posts from pages based on a specific date | provide in january 2024\n",
    "\n",
    "import selenium\n",
    "from selenium import webdriver\n",
    "\n",
    "from selenium.webdriver.chrome.service import Service\n",
    "from selenium.webdriver.common.by import By\n",
    "from selenium.webdriver.common.keys import Keys\n",
    "import time\n",
    "import secrets"
   ]
  },
  {
   "cell_type": "code",
   "execution_count": 8,
   "metadata": {},
   "outputs": [],
   "source": [
    "# Specify the path to the ChromeDriver executable\n",
    "chrome_driver_path = \"E:/chromedriver-win64/chromedriver.exe\"\n",
    "\n",
    "# Create a ChromeOptions object\n",
    "chrome_options = webdriver.ChromeOptions()\n",
    "\n",
    "# Set preferences to block notifications\n",
    "prefs = {\"profile.default_content_setting_values.notifications\": 2}\n",
    "chrome_options.add_experimental_option(\"prefs\", prefs)\n",
    "\n",
    "# Create a Chrome WebDriver instance with the specified options and service\n",
    "chrome_service = Service(executable_path=chrome_driver_path)\n",
    "driver = webdriver.Chrome(service=chrome_service, options=chrome_options)\n",
    "\n",
    "# Perform actions with the WebDriver\n",
    "driver.get(\"https://www.facebook.com\")\n",
    "time.sleep(5)"
   ]
  },
  {
   "cell_type": "code",
   "execution_count": 9,
   "metadata": {},
   "outputs": [],
   "source": [
    "loginId = secrets.username\n",
    "my_password = secrets.password"
   ]
  },
  {
   "cell_type": "code",
   "execution_count": 10,
   "metadata": {},
   "outputs": [],
   "source": [
    "user_name = driver.find_element(By.XPATH,\"//input[@type='text']\")\n",
    "user_name.send_keys(\"asrin.azee@yahoo.com\")\n",
    "\n",
    "password = driver.find_element(By.XPATH,\"//input[@placeholder='Password']\")\n",
    "password.send_keys(my_password)"
   ]
  },
  {
   "cell_type": "code",
   "execution_count": 11,
   "metadata": {},
   "outputs": [],
   "source": [
    "log_in_button = driver.find_element(By.XPATH,\"//button[@type='submit']\")\n",
    "log_in_button.click()\n",
    "time.sleep(3)"
   ]
  },
  {
   "cell_type": "code",
   "execution_count": 12,
   "metadata": {},
   "outputs": [],
   "source": [
    "urll = 'https://www.facebook.com/DonaldTrump'\n",
    "driver.get(urll)\n",
    "time.sleep(5)"
   ]
  },
  {
   "cell_type": "code",
   "execution_count": 13,
   "metadata": {},
   "outputs": [],
   "source": [
    "filter_btn = driver.find_element(By.XPATH,\"//div[@aria-label='Filters']\")\n",
    "#//div[@class='x1iyjqo2 x1pi30zi']\n",
    "time.sleep(1)\n",
    "filter_btn.click()"
   ]
  },
  {
   "cell_type": "code",
   "execution_count": 14,
   "metadata": {},
   "outputs": [],
   "source": [
    "# Find the \"Posts\" element by its text content\n",
    "from selenium.webdriver.support.wait import WebDriverWait\n",
    "from selenium.webdriver.support import expected_conditions as EC\n",
    "from selenium.webdriver.common.by import By\n",
    "from selenium.webdriver.common.keys import Keys\n",
    "posts_year = WebDriverWait(driver, 10).until(\n",
    "    EC.element_to_be_clickable((By.XPATH,\"//div[@aria-label='Go to:']\"))\n",
    ")\n",
    "\n",
    "# Click on the \"Posts\" element\n",
    "posts_year.click()\n",
    "\n",
    "# Add a sleep to wait for the page to load (adjust the time as needed)\n",
    "time.sleep(3)"
   ]
  },
  {
   "cell_type": "code",
   "execution_count": 15,
   "metadata": {},
   "outputs": [],
   "source": [
    "span_2017 = WebDriverWait(driver, 10).until(\n",
    "    EC.element_to_be_clickable((By.XPATH, '//div/div/span[text()=\"2019\"]')))\n",
    "    #//*[@id=\":r6n:__8\"]/div[1]/div/div\n",
    "time.sleep(1.5)\n",
    "span_2017.click()\n",
    "time.sleep(3)"
   ]
  },
  {
   "cell_type": "code",
   "execution_count": 16,
   "metadata": {},
   "outputs": [],
   "source": [
    "posts_month = WebDriverWait(driver, 10).until(\n",
    "    EC.element_to_be_clickable((By.XPATH,'//div/div/div/span[text()=\"Month\"]'))\n",
    "    #//*[@id=\":r73:\"]\n",
    ")\n",
    "\n",
    "# Click on the \"Posts\" element\n",
    "posts_month.click()\n",
    "\n",
    "# Add a sleep to wait for the page to load (adjust the time as needed)\n",
    "time.sleep(1.5)\n",
    "\n",
    "month_ = WebDriverWait(driver, 10).until(\n",
    "    EC.element_to_be_clickable((By.XPATH, './/span[text()=\"July\"]')))\n",
    "time.sleep(1.5)\n",
    "month_.click()\n"
   ]
  },
  {
   "cell_type": "code",
   "execution_count": 17,
   "metadata": {},
   "outputs": [],
   "source": [
    "#aria-expanded\n",
    "posts_day = WebDriverWait(driver, 10).until(\n",
    "    #//*[@id=\":r79:\"]\n",
    "    EC.element_to_be_clickable((By.XPATH,'//div/div/span[text()=\"Day\"]'))\n",
    ")\n",
    "\n",
    "# Click on the \"Posts\" element\n",
    "posts_day.click()\n",
    "\n",
    "# Add a sleep to wait for the page to load (adjust the time as needed)\n",
    "time.sleep(1.5)"
   ]
  },
  {
   "cell_type": "code",
   "execution_count": null,
   "metadata": {},
   "outputs": [],
   "source": [
    "day_ = WebDriverWait(driver, 10).until(\n",
    "    #//*[@id=\":rc6:__1\"]/div[1]/div/div/span\n",
    "    #rqd:__1\n",
    "    EC.element_to_be_clickable((By.XPATH, '//*[@id=\":r6e:__1\"]/div[1]/div/div/span[text()=\"1\"]')))\n",
    "time.sleep(1.5)\n",
    "day_.click()\n",
    "time.sleep(3)"
   ]
  },
  {
   "cell_type": "code",
   "execution_count": null,
   "metadata": {},
   "outputs": [],
   "source": [
    "done_ = WebDriverWait(driver, 10).until(\n",
    "    #//*[@id=\":rc6:__1\"]/div[1]/div/div/span\n",
    "    #//*[@id=\"mount_0_0_2v\"]/div/div[1]/div/div[4]/div/div/div[1]/div/div[2]/div/div/div/div[3]/div[2]/div/div[2]\n",
    "    EC.element_to_be_clickable((By.XPATH, '//*[@id=\"mount_0_0_wK\"]/div/div[1]/div/div[4]/div/div/div[1]/div/div[2]/div/div/div/div[3]/div[2]/div/div[2]/div[1]/div')))\n",
    "time.sleep(1.5)\n",
    "done_.click()\n",
    "time.sleep(1)"
   ]
  },
  {
   "cell_type": "code",
   "execution_count": 18,
   "metadata": {},
   "outputs": [],
   "source": [
    "content_list = []"
   ]
  },
  {
   "cell_type": "code",
   "execution_count": 20,
   "metadata": {},
   "outputs": [
    {
     "name": "stdout",
     "output_type": "stream",
     "text": [
      "Text content: Biden, Harris and Buttigieg talk a big game against Wall Street. But they're quick to take money from big bank executives. Hypocrites!\n",
      "Text content: The Mueller Witch Hunt is a disgrace to this country. A Democrat Con Job! This should NEVER be allowed to happen in this country again!\n",
      "Text content: America has the best economy we've ever had - everybody is benefiting!\n",
      "Text content: Nancy is aligning herself with Cortez, the TRUE LEADER of the Democrat Party. She said she doesn't think they have that many differences!\n",
      "Text content: I don’t believe the four Congresswomen are capable of loving our Country. It's sad that they are the new leaders of the Democrat Party!\n",
      "Text content: Welcome Kathy Zhu to the Official #WomenforTrump Coalition Advisory Board! \n",
      "She is a patriot who has continued to stand for American values despite being stripp… See more\n",
      "Text content: I am pleased to announce the House has passed our budget deal 284-149. Great for our Military and our Vets. A big thank you!\n",
      "Text content: A public option would be a total disaster. We can't have a government takeover of healthcare!\n",
      "Text content: ‪It was my honor to celebrate one year of the Trump Administration’s Pledge to America’s Workers along with Ivanka Trump!\n",
      "Text content: Every American should be thankful for our great American Farmers!\n",
      "Text content: We love our Law Enforcement Officers all around this great Country. What took place in NYC with water being tossed on NYPD officers was a total disgrace. It is time for Mayor Bill de Blasio to STAND UP for those who protect our lives and serve us all so well. What took place was completely unacceptable, and will not be tolerated. Bill de Blasio should act immediately!\n",
      "Text content: Give A$AP Rocky his FREEDOM. We do so much for Sweden but it doesn’t seem to work the other way around. Sweden should focus on its real crime problem! #FreeRocky\n",
      "Text content: MAKE STRAWS GREAT AGAIN!\n",
      "Shop NOW: bit.ly/30VpnXG\n",
      "Text content: TRUMP APPROVAL RATING UP, VOTER RATINGS ON ECONOMY BEST IN DECADES!\n",
      "[\"'SC security guard-turned-pharmacy technician visits Ivanka Trump'\", 'Why is so much money sent to the Elijah Cummings district when it is considered the worst run and most dangerous anywhere in the United States. No human being would want to live there. Where is all this money going? How much is stolen? Investigate this corrupt mess immediately!', 'Together, we are part of one of the greatest stories ever told: the story of America!', 'Wow! Big VICTORY on the Wall. The United States Supreme Court overturns lower court injunction, allows Southern Border Wall to proceed. Big WIN for Border Security and the Rule of Law!', 'Radical Democrats have absurdly claimed that detention facilities for ILLEGAL ALIENS are like concentration camps. Not only is that disrespectful to the millions of Jewish people and others who were tortured and brutally murdered in the Holocaust, but it is a LIE!', 'Today, I announced a safe third country agreement with Guatemala that will put human smugglers out of business and provide safety for legitimate asylum seekers.', \"'Dems thought Mueller would be their savior – Instead he killed hopes of impeaching Trump'\", 'Thank you, Johnny!', 'Johnny Brummit visited The White House yesterday to tell President Donald J. Trump and Ivanka Trump how a nonprofit job-training program has changed his life.\\nRead more below!', \"Biden, Harris and Buttigieg talk a big game against Wall Street. But they're quick to take money from big bank executives. Hypocrites!\", 'The Mueller Witch Hunt is a disgrace to this country. A Democrat Con Job! This should NEVER be allowed to happen in this country again!', \"America has the best economy we've ever had - everybody is benefiting!\", \"Nancy is aligning herself with Cortez, the TRUE LEADER of the Democrat Party. She said she doesn't think they have that many differences!\", \"I don’t believe the four Congresswomen are capable of loving our Country. It's sad that they are the new leaders of the Democrat Party!\", 'Welcome Kathy Zhu to the Official #WomenforTrump Coalition Advisory Board! \\nShe is a patriot who has continued to stand for American values despite being stripp… See more', 'I am pleased to announce the House has passed our budget deal 284-149. Great for our Military and our Vets. A big thank you!', \"A public option would be a total disaster. We can't have a government takeover of healthcare!\", '\\u202aIt was my honor to celebrate one year of the Trump Administration’s Pledge to America’s Workers along with Ivanka Trump!', 'Every American should be thankful for our great American Farmers!', 'We love our Law Enforcement Officers all around this great Country. What took place in NYC with water being tossed on NYPD officers was a total disgrace. It is time for Mayor Bill de Blasio to STAND UP for those who protect our lives and serve us all so well. What took place was completely unacceptable, and will not be tolerated. Bill de Blasio should act immediately!', 'Give A$AP Rocky his FREEDOM. We do so much for Sweden but it doesn’t seem to work the other way around. Sweden should focus on its real crime problem! #FreeRocky', 'MAKE STRAWS GREAT AGAIN!\\nShop NOW: bit.ly/30VpnXG', 'TRUMP APPROVAL RATING UP, VOTER RATINGS ON ECONOMY BEST IN DECADES!']\n"
     ]
    }
   ],
   "source": [
    "# Find the span element using the provided XPath expression\n",
    "# in this snippet code we will retrive all post from a specific date\n",
    "#//*[@id=\":r4gs:\"]/div/div/span   # --> this is based on id and it will change automatically not usable\n",
    "# (By.XPATH, '//*[starts-with(@class, \"x1iorvi4 \")]')\n",
    "\n",
    "for _ in range(20):  # You can adjust the number of times you want to scroll\n",
    "    driver.execute_script(\"window.scrollTo(0, document.body.scrollHeight);\")\n",
    "    time.sleep(1)  # Add a small delay to wait for content to load\n",
    "\n",
    "    span_element = driver.find_elements(By.XPATH, '//*[starts-with(@class, \"x1iorvi4 \")]')\n",
    "    \n",
    "    for elem in span_element:\n",
    "        \n",
    "        text_content = elem.text\n",
    "        if text_content!=''and text_content not in content_list:\n",
    "            content_list.append(text_content)\n",
    "            print(\"Text content:\", text_content)\n",
    "print(content_list)"
   ]
  },
  {
   "cell_type": "code",
   "execution_count": null,
   "metadata": {},
   "outputs": [],
   "source": []
  },
  {
   "cell_type": "code",
   "execution_count": null,
   "metadata": {},
   "outputs": [],
   "source": []
  },
  {
   "cell_type": "code",
   "execution_count": null,
   "metadata": {},
   "outputs": [],
   "source": []
  }
 ],
 "metadata": {
  "kernelspec": {
   "display_name": "Python 3",
   "language": "python",
   "name": "python3"
  },
  "language_info": {
   "codemirror_mode": {
    "name": "ipython",
    "version": 3
   },
   "file_extension": ".py",
   "mimetype": "text/x-python",
   "name": "python",
   "nbconvert_exporter": "python",
   "pygments_lexer": "ipython3",
   "version": "3.7.2"
  }
 },
 "nbformat": 4,
 "nbformat_minor": 2
}
